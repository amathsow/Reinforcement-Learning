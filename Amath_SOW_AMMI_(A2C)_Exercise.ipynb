{
  "nbformat": 4,
  "nbformat_minor": 0,
  "metadata": {
    "colab": {
      "name": "Amath SOW AMMI (A2C) Exercise.ipynb",
      "provenance": [],
      "collapsed_sections": [],
      "include_colab_link": true
    },
    "kernelspec": {
      "name": "python3",
      "display_name": "Python 3"
    }
  },
  "cells": [
    {
      "cell_type": "markdown",
      "metadata": {
        "id": "view-in-github",
        "colab_type": "text"
      },
      "source": [
        "<a href=\"https://colab.research.google.com/github/amathsow/Reinforcement-learning/blob/master/Amath_SOW_AMMI_(A2C)_Exercise.ipynb\" target=\"_parent\"><img src=\"https://colab.research.google.com/assets/colab-badge.svg\" alt=\"Open In Colab\"/></a>"
      ]
    },
    {
      "cell_type": "markdown",
      "metadata": {
        "colab_type": "text",
        "id": "CWjie7h0zGdD"
      },
      "source": [
        "## Install, import and utilities"
      ]
    },
    {
      "cell_type": "code",
      "metadata": {
        "id": "nD74OdCFhUN_",
        "colab_type": "code",
        "colab": {}
      },
      "source": [
        "!pip install gym > /dev/null 2>&1"
      ],
      "execution_count": 0,
      "outputs": []
    },
    {
      "cell_type": "code",
      "metadata": {
        "colab_type": "code",
        "id": "VrO05StZyFee",
        "colab": {}
      },
      "source": [
        "!pip install gym pyvirtualdisplay > /dev/null 2>&1\n",
        "!apt-get install -y xvfb python-opengl ffmpeg > /dev/null 2>&1"
      ],
      "execution_count": 0,
      "outputs": []
    },
    {
      "cell_type": "code",
      "metadata": {
        "id": "oJvy13_UhLUq",
        "colab_type": "code",
        "colab": {
          "base_uri": "https://localhost:8080/",
          "height": 34
        },
        "outputId": "8b13958b-d296-4f1c-b3aa-6b33ae196ecc"
      },
      "source": [
        "!apt-get update > /dev/null 2>&1\n",
        "!apt-get install cmake > /dev/null 2>&1\n",
        "!pip install --upgrade setuptools 2>&1\n",
        "!pip install ez_setup > /dev/null 2>&1"
      ],
      "execution_count": 9,
      "outputs": [
        {
          "output_type": "stream",
          "text": [
            "Requirement already up-to-date: setuptools in /usr/local/lib/python3.6/dist-packages (45.2.0)\n"
          ],
          "name": "stdout"
        }
      ]
    },
    {
      "cell_type": "code",
      "metadata": {
        "id": "iIQC-DpYhBpA",
        "colab_type": "code",
        "colab": {}
      },
      "source": [
        "import gym\n",
        "from gym import logger as gymlogger\n",
        "from gym.wrappers import Monitor\n",
        "gymlogger.set_level(40) #error only\n",
        "\n",
        "import torch\n",
        "import torch.nn as nn\n",
        "import torch.nn.functional as F \n",
        "from torch import optim\n",
        "import numpy as np\n",
        "import pandas as pd\n",
        "\n",
        "import seaborn as sns\n",
        "from pyvirtualdisplay import Display\n",
        "from IPython import display as ipythondisplay\n",
        "from IPython.display import clear_output\n",
        "from pathlib import Path\n",
        "\n",
        "import random, os.path, math, glob, csv, base64, itertools, sys\n",
        "from pprint import pprint\n",
        "\n",
        "import matplotlib\n",
        "import matplotlib.pyplot as plt\n",
        "%matplotlib inline\n",
        "import io\n",
        "from IPython.display import HTML\n",
        "\n",
        "from copy import deepcopy\n"
      ],
      "execution_count": 0,
      "outputs": []
    },
    {
      "cell_type": "code",
      "metadata": {
        "id": "3qkmxo4hhwIU",
        "colab_type": "code",
        "colab": {
          "base_uri": "https://localhost:8080/",
          "height": 71
        },
        "outputId": "0c397cc6-ae86-4518-8555-df2c59616ae6"
      },
      "source": [
        "# The following code is will be used to visualize the environments.\n",
        "def show_video(directory):\n",
        "    html = []\n",
        "    for mp4 in Path(directory).glob(\"*.mp4\"):\n",
        "        video_b64 = base64.b64encode(mp4.read_bytes())\n",
        "        html.append('''<video alt=\"{}\" autoplay \n",
        "                      loop controls style=\"height: 400px;\">\n",
        "                      <source src=\"data:video/mp4;base64,{}\" type=\"video/mp4\" />\n",
        "                 </video>'''.format(mp4, video_b64.decode('ascii')))\n",
        "    ipythondisplay.display(ipythondisplay.HTML(data=\"<br>\".join(html)))\n",
        "    \n",
        "def make_seed(seed):\n",
        "    np.random.seed(seed=seed)\n",
        "    torch.manual_seed(seed=seed)\n",
        "  \n",
        "from pyvirtualdisplay import Display\n",
        "display = Display(visible=0, size=(1400, 900))\n",
        "display.start()"
      ],
      "execution_count": 11,
      "outputs": [
        {
          "output_type": "stream",
          "text": [
            "xdpyinfo was not found, X start can not be checked! Please install xdpyinfo!\n"
          ],
          "name": "stderr"
        },
        {
          "output_type": "execute_result",
          "data": {
            "text/plain": [
              "<Display cmd_param=['Xvfb', '-br', '-nolisten', 'tcp', '-screen', '0', '1400x900x24', ':1001'] cmd=['Xvfb', '-br', '-nolisten', 'tcp', '-screen', '0', '1400x900x24', ':1001'] oserror=None return_code=None stdout=\"None\" stderr=\"None\" timeout_happened=False>"
            ]
          },
          "metadata": {
            "tags": []
          },
          "execution_count": 11
        }
      ]
    },
    {
      "cell_type": "markdown",
      "metadata": {
        "colab_type": "text",
        "id": "I9kdsiBQ31mF"
      },
      "source": [
        "## A2C\n"
      ]
    },
    {
      "cell_type": "markdown",
      "metadata": {
        "id": "ka9t6kxhuczD",
        "colab_type": "text"
      },
      "source": [
        "\n",
        "for n = 1, ..., N //number of iterations<br>\n",
        "> collect $K$ samples\n",
        "\n",
        "> for i = 0,...,$K$:\n",
        "\n",
        ">> execute action $a_i\\sim\\pi(s)$\n",
        "\n",
        ">> observe reward $r_i$ and next state $s'_i$\n",
        "\n",
        ">> store $(s_i,a_i,r_i,s'_i)$\n",
        "\n",
        ">> if done: reset\n",
        "\n",
        "> compute target $y_i$ for each sample $i \\in [0, K]$\n",
        "\n",
        "> compute $\\delta_i$ for each sample $i \\in [0,K]$\n",
        "\n",
        "> Compute estimate of $V$ by gradient descent on MSE\n",
        "\n",
        "$$L_{MSE}(\\omega|data) =\\sum_{i=1}^{K} (V_{\\omega}(s_i) - y_i)^2$$\n",
        "\n",
        "> Update policy by gradient descent on policy loss\n",
        "\n",
        "$$L_\\pi(\\theta|data) = \\frac{1}{K} \\sum_{i=1}^K \n",
        "      \\Big[ \n",
        "                                \\log \\pi_\\theta( a_i|s_i) \\delta_i + \\lambda_e \\Omega(\\pi_{\\theta}(\\cdot| s_i))\n",
        "                        \\Big]$$\n",
        "\n",
        "\n",
        "\n",
        "\n",
        "\n"
      ]
    },
    {
      "cell_type": "code",
      "metadata": {
        "colab_type": "code",
        "id": "5DlNKriHyFg3",
        "colab": {}
      },
      "source": [
        "class ActorNetwork(nn.Module):\n",
        "    \"\"\"\n",
        "     This network represents the policy\n",
        "    \"\"\"\n",
        "\n",
        "    def __init__(self, input_size, hidden_size, action_size):\n",
        "        super(ActorNetwork, self).__init__()\n",
        "        self.n_actions = action_size\n",
        "        self.dim_observation = input_size\n",
        "        \n",
        "        self.net = nn.Sequential(\n",
        "            nn.Linear(in_features=self.dim_observation, out_features=hidden_size),\n",
        "            nn.ReLU(),\n",
        "            nn.Linear(in_features=hidden_size, out_features=hidden_size),\n",
        "            nn.ReLU(),\n",
        "            nn.Linear(in_features=hidden_size, out_features=self.n_actions),\n",
        "            nn.Softmax(dim=-1)\n",
        "        )\n",
        "        \n",
        "    def policy(self, state):\n",
        "        state = torch.tensor(state, dtype=torch.float)\n",
        "        return self.net(state)\n",
        "    \n",
        "    def sample_action(self, state):\n",
        "        state = torch.tensor(state, dtype=torch.float)\n",
        "        action = torch.multinomial(self.policy(state), 1)\n",
        "        return action.item()"
      ],
      "execution_count": 0,
      "outputs": []
    },
    {
      "cell_type": "code",
      "metadata": {
        "colab_type": "code",
        "id": "SgnRZXEayFhA",
        "colab": {}
      },
      "source": [
        "class ValueNetwork(nn.Module):\n",
        "  \"\"\"\n",
        "   This class represents the value function\n",
        "  \"\"\"\n",
        "\n",
        "  def __init__(self, input_size, hidden_size, output_size):\n",
        "      super(ValueNetwork, self).__init__()\n",
        "      self.fc1 = nn.Linear(input_size, hidden_size)\n",
        "      self.fc2 = nn.Linear(hidden_size, hidden_size)\n",
        "      self.fc3 = nn.Linear(hidden_size, output_size)\n",
        "\n",
        "  def forward(self, x):\n",
        "      out = F.relu(self.fc1(x))\n",
        "      out = F.relu(self.fc2(out))\n",
        "      out = self.fc3(out)\n",
        "      return out\n",
        "  \n",
        "  def value(self, state):\n",
        "      state = torch.tensor(state, dtype=torch.float)\n",
        "      return self.forward(state)\n"
      ],
      "execution_count": 0,
      "outputs": []
    },
    {
      "cell_type": "code",
      "metadata": {
        "id": "NUsSnXI9Giv5",
        "colab_type": "code",
        "colab": {}
      },
      "source": [
        "# You can select your environment here\n",
        "env_id = 'CartPole-v1'  #@param [\"CartPole-v1\", \"Acrobot-v1\", \"MountainCar-v0\"]\n",
        "env = gym.make(env_id)\n",
        "\n",
        "eval_env = gym.make(env_id) # environment to evaluate the policy"
      ],
      "execution_count": 0,
      "outputs": []
    },
    {
      "cell_type": "code",
      "metadata": {
        "id": "cVN-qhxY7o7W",
        "colab_type": "code",
        "colab": {
          "base_uri": "https://localhost:8080/",
          "height": 751
        },
        "outputId": "bef6cdea-818f-459b-f1a0-5fa5c5956528"
      },
      "source": [
        "# Define you networks\n",
        "value_network = ValueNetwork(env.observation_space.shape[0], 16, 1)\n",
        "actor_network = ActorNetwork(env.observation_space.shape[0], 16, env.action_space.n)\n",
        "print(value_network)\n",
        "print(actor_network)\n",
        "\n",
        "# Define your optimizers\n",
        "value_network_optimizer = torch.optim.RMSprop(value_network.parameters(), lr=0.01)\n",
        "actor_network_optimizer = torch.optim.RMSprop(actor_network.parameters(), lr=0.01)\n",
        "\n",
        "\n",
        "num_iterations = 250   # How many update step do we perform   \n",
        "batch_size = 1024      # How many samples to collect\n",
        "gamma = 1\n",
        "lambda_entropy = 0.001 # regularization coefficient for entropy\n",
        "entropy_term = 0\n",
        "\n",
        "\n",
        "for iteration in range(num_iterations):\n",
        "    # Initialize batch storage\n",
        "    batch_losses = torch.zeros(batch_size)\n",
        "    batch_returns = np.zeros(batch_size)\n",
        "\n",
        "\n",
        "    states = np.empty((batch_size,) + env.observation_space.shape, dtype=np.float)        # shape (batch_size, state_dim)\n",
        "    rewards = np.empty((batch_size,), dtype=np.float)                                     # shape (batch_size, )                                 \n",
        "    next_states = np.empty((batch_size,) + env.observation_space.shape, dtype=np.float)   # shape (batch_size, state_dim)\n",
        "    dones = np.empty((batch_size,), dtype=np.bool)                                        # shape (batch_size, ) \n",
        "    proba = torch.empty((batch_size,), dtype=np.float)                                    # shape (batch_size, ), store pi(a_t|s_t)\n",
        "    next_value = 0                                \n",
        "  \n",
        "    # Intialize environment\n",
        "    state = env.reset()\n",
        "\n",
        "    # Generate batch\n",
        "    for i in range(batch_size):\n",
        "        action = actor_network.sample_action(state)\n",
        "        next_state, reward, done, _ = env.step(action)\n",
        "\n",
        "        states[i] = state\n",
        "        rewards[i] = reward\n",
        "        next_states[i] = next_state\n",
        "        dones[i] = done\n",
        "        proba[i] = actor_network.policy(state)[action]\n",
        "        policy_dist = value_network.value(state)\n",
        "        dist = policy_dist.detach().numpy()\n",
        "        entropy = -np.sum(np.mean(dist) * np.log(dist)) \n",
        "        entropy_term +=entropy\n",
        "\n",
        "        state = next_state\n",
        "        if done:\n",
        "          state = env.reset()\n",
        "\n",
        "    if not done:\n",
        "        next_value = value_network.value(next_states[-1]).detach().numpy()[0]\n",
        "\n",
        "    # compute returns (with bootstrapping)\n",
        "    returns = np.zeros((batch_size,), dtype=np.float)\n",
        "    for t in reversed(range(len(rewards))):\n",
        "            next_value = rewards[t] + gamma * next_value\n",
        "            returns[t] = next_value\n",
        "\n",
        "    # compute advantage\n",
        "    values = value_network.value(states)\n",
        "    advantages = torch.Tensor(returns) - values.detach().numpy().squeeze()\n",
        "    \n",
        "\n",
        "    # Compute MSE\n",
        "    value_network_optimizer.zero_grad()\n",
        "    loss_value = (-torch.log(proba) * advantages).mean() + 0.5 * advantages.pow(2).mean()\n",
        "    loss_value.backward(retain_graph=True)\n",
        "    value_network_optimizer.step()\n",
        "\n",
        "    # compute entropy term\n",
        "    # already do it in batch_size loop\n",
        "\n",
        "    # Compute Actor Gradient\n",
        "    actor_network_optimizer.zero_grad()\n",
        "    loss_policy = loss_value + lambda_entropy*entropy_term\n",
        "    loss_policy.backward(retain_graph=True)\n",
        "    actor_network_optimizer.step()\n",
        "\n",
        "    # this code is to evaluate the policy every 10 iterations\n",
        "    if( (iteration+1)%10 == 0 ):\n",
        "        eval_rewards = np.zeros(5)\n",
        "        for sim in range(5):\n",
        "            eval_done = False\n",
        "            eval_state = eval_env.reset()\n",
        "            while not eval_done:\n",
        "                eval_action = actor_network.sample_action(eval_state)\n",
        "                eval_next_state, eval_reward, eval_done, _ = eval_env.step(eval_action)\n",
        "                eval_rewards[sim] += eval_reward\n",
        "                eval_state = eval_next_state\n",
        "        \n",
        "        print(\"it, rewards = \", \n",
        "              iteration +1, eval_rewards.mean())\n"
      ],
      "execution_count": 51,
      "outputs": [
        {
          "output_type": "stream",
          "text": [
            "ValueNetwork(\n",
            "  (fc1): Linear(in_features=4, out_features=16, bias=True)\n",
            "  (fc2): Linear(in_features=16, out_features=16, bias=True)\n",
            "  (fc3): Linear(in_features=16, out_features=1, bias=True)\n",
            ")\n",
            "ActorNetwork(\n",
            "  (net): Sequential(\n",
            "    (0): Linear(in_features=4, out_features=16, bias=True)\n",
            "    (1): ReLU()\n",
            "    (2): Linear(in_features=16, out_features=16, bias=True)\n",
            "    (3): ReLU()\n",
            "    (4): Linear(in_features=16, out_features=2, bias=True)\n",
            "    (5): Softmax(dim=-1)\n",
            "  )\n",
            ")\n"
          ],
          "name": "stdout"
        },
        {
          "output_type": "stream",
          "text": [
            "/usr/local/lib/python3.6/dist-packages/ipykernel_launcher.py:21: UserWarning: To copy construct from a tensor, it is recommended to use sourceTensor.clone().detach() or sourceTensor.clone().detach().requires_grad_(True), rather than torch.tensor(sourceTensor).\n",
            "/usr/local/lib/python3.6/dist-packages/ipykernel_launcher.py:46: RuntimeWarning: invalid value encountered in log\n"
          ],
          "name": "stderr"
        },
        {
          "output_type": "stream",
          "text": [
            "it, rewards =  10 9.8\n",
            "it, rewards =  20 13.6\n",
            "it, rewards =  30 18.0\n",
            "it, rewards =  40 12.2\n",
            "it, rewards =  50 14.6\n",
            "it, rewards =  60 21.0\n",
            "it, rewards =  70 24.0\n",
            "it, rewards =  80 20.6\n",
            "it, rewards =  90 26.4\n",
            "it, rewards =  100 21.2\n",
            "it, rewards =  110 28.8\n",
            "it, rewards =  120 25.0\n",
            "it, rewards =  130 24.6\n",
            "it, rewards =  140 16.0\n",
            "it, rewards =  150 21.8\n",
            "it, rewards =  160 16.4\n",
            "it, rewards =  170 16.6\n",
            "it, rewards =  180 29.2\n",
            "it, rewards =  190 22.4\n",
            "it, rewards =  200 28.0\n",
            "it, rewards =  210 29.0\n",
            "it, rewards =  220 21.6\n",
            "it, rewards =  230 19.0\n",
            "it, rewards =  240 20.2\n",
            "it, rewards =  250 23.4\n"
          ],
          "name": "stdout"
        }
      ]
    },
    {
      "cell_type": "code",
      "metadata": {
        "id": "d0HW0jgTxdn8",
        "colab_type": "code",
        "colab": {
          "base_uri": "https://localhost:8080/",
          "height": 1000
        },
        "outputId": "e4d10f38-1673-4193-84d1-82d7ea72e145"
      },
      "source": [
        "env = Monitor(env, \"./gym-results\", force=True, video_callable=lambda episode: True)\n",
        "for episode in range(4):\n",
        "    done = False\n",
        "    state = env.reset()\n",
        "    while not done:\n",
        "        action = actor_network.sample_action(state)\n",
        "        state, reward, done, info = env.step(action)\n",
        "env.close()\n",
        "show_video(\"./gym-results\")"
      ],
      "execution_count": 53,
      "outputs": [
        {
          "output_type": "stream",
          "text": [
            "/usr/local/lib/python3.6/dist-packages/ipykernel_launcher.py:21: UserWarning: To copy construct from a tensor, it is recommended to use sourceTensor.clone().detach() or sourceTensor.clone().detach().requires_grad_(True), rather than torch.tensor(sourceTensor).\n",
            "/usr/local/lib/python3.6/dist-packages/ipykernel_launcher.py:21: UserWarning: To copy construct from a tensor, it is recommended to use sourceTensor.clone().detach() or sourceTensor.clone().detach().requires_grad_(True), rather than torch.tensor(sourceTensor).\n",
            "/usr/local/lib/python3.6/dist-packages/ipykernel_launcher.py:21: UserWarning: To copy construct from a tensor, it is recommended to use sourceTensor.clone().detach() or sourceTensor.clone().detach().requires_grad_(True), rather than torch.tensor(sourceTensor).\n",
            "/usr/local/lib/python3.6/dist-packages/ipykernel_launcher.py:21: UserWarning: To copy construct from a tensor, it is recommended to use sourceTensor.clone().detach() or sourceTensor.clone().detach().requires_grad_(True), rather than torch.tensor(sourceTensor).\n",
            "/usr/local/lib/python3.6/dist-packages/ipykernel_launcher.py:21: UserWarning: To copy construct from a tensor, it is recommended to use sourceTensor.clone().detach() or sourceTensor.clone().detach().requires_grad_(True), rather than torch.tensor(sourceTensor).\n",
            "/usr/local/lib/python3.6/dist-packages/ipykernel_launcher.py:21: UserWarning: To copy construct from a tensor, it is recommended to use sourceTensor.clone().detach() or sourceTensor.clone().detach().requires_grad_(True), rather than torch.tensor(sourceTensor).\n",
            "/usr/local/lib/python3.6/dist-packages/ipykernel_launcher.py:21: UserWarning: To copy construct from a tensor, it is recommended to use sourceTensor.clone().detach() or sourceTensor.clone().detach().requires_grad_(True), rather than torch.tensor(sourceTensor).\n",
            "/usr/local/lib/python3.6/dist-packages/ipykernel_launcher.py:21: UserWarning: To copy construct from a tensor, it is recommended to use sourceTensor.clone().detach() or sourceTensor.clone().detach().requires_grad_(True), rather than torch.tensor(sourceTensor).\n",
            "/usr/local/lib/python3.6/dist-packages/ipykernel_launcher.py:21: UserWarning: To copy construct from a tensor, it is recommended to use sourceTensor.clone().detach() or sourceTensor.clone().detach().requires_grad_(True), rather than torch.tensor(sourceTensor).\n",
            "/usr/local/lib/python3.6/dist-packages/ipykernel_launcher.py:21: UserWarning: To copy construct from a tensor, it is recommended to use sourceTensor.clone().detach() or sourceTensor.clone().detach().requires_grad_(True), rather than torch.tensor(sourceTensor).\n"
          ],
          "name": "stderr"
        },
        {
          "output_type": "display_data",
          "data": {
            "text/html": [
              "<video alt=\"gym-results/openaigym.video.1.125.video000003.mp4\" autoplay \n",
              "                      loop controls style=\"height: 400px;\">\n",
              "                      <source src=\"data:video/mp4;base64,AAAAIGZ0eXBpc29tAAACAGlzb21pc28yYXZjMW1wNDEAAAAIZnJlZQAACYptZGF0AAACrgYF//+q3EXpvebZSLeWLNgg2SPu73gyNjQgLSBjb3JlIDE1MiByMjg1NCBlOWE1OTAzIC0gSC4yNjQvTVBFRy00IEFWQyBjb2RlYyAtIENvcHlsZWZ0IDIwMDMtMjAxNyAtIGh0dHA6Ly93d3cudmlkZW9sYW4ub3JnL3gyNjQuaHRtbCAtIG9wdGlvbnM6IGNhYmFjPTEgcmVmPTMgZGVibG9jaz0xOjA6MCBhbmFseXNlPTB4MzoweDExMyBtZT1oZXggc3VibWU9NyBwc3k9MSBwc3lfcmQ9MS4wMDowLjAwIG1peGVkX3JlZj0xIG1lX3JhbmdlPTE2IGNocm9tYV9tZT0xIHRyZWxsaXM9MSA4eDhkY3Q9MSBjcW09MCBkZWFkem9uZT0yMSwxMSBmYXN0X3Bza2lwPTEgY2hyb21hX3FwX29mZnNldD0tMiB0aHJlYWRzPTMgbG9va2FoZWFkX3RocmVhZHM9MSBzbGljZWRfdGhyZWFkcz0wIG5yPTAgZGVjaW1hdGU9MSBpbnRlcmxhY2VkPTAgYmx1cmF5X2NvbXBhdD0wIGNvbnN0cmFpbmVkX2ludHJhPTAgYmZyYW1lcz0zIGJfcHlyYW1pZD0yIGJfYWRhcHQ9MSBiX2JpYXM9MCBkaXJlY3Q9MSB3ZWlnaHRiPTEgb3Blbl9nb3A9MCB3ZWlnaHRwPTIga2V5aW50PTI1MCBrZXlpbnRfbWluPTI1IHNjZW5lY3V0PTQwIGludHJhX3JlZnJlc2g9MCByY19sb29rYWhlYWQ9NDAgcmM9Y3JmIG1idHJlZT0xIGNyZj0yMy4wIHFjb21wPTAuNjAgcXBtaW49MCBxcG1heD02OSBxcHN0ZXA9NCBpcF9yYXRpbz0xLjQwIGFxPTE6MS4wMACAAAAByGWIhAAv//72rvzLK0cLlS4dWXuzUfLoSXL9iDB9aAAAAwAAAwAAJuKiZ0WFMeJsgAAALmAIWElDyDzETFWKgSxIZq+CURoAy8topR5bZl3vGSBrQQ0IrS8UM/+BjXuyM1DS2j5HcWaq2eeNoQFYV1PcHXM9xmk9yLv36NmRv5zh3bJ8ymzkHgz5YHToK4cdwyj9XBA6cPoT+16cJudCCsYd4uEcclw4XwApoAsggu19w9u6KGqlq7a5lWunqXymVT7THTowJGnQE4dne1ol3f9/tAbTAj1Cpfj4tA8CSHDbuQQtldGljzcXYsM+vRyNqUGt+V0sH08fbTQtG29OyLCIcZsJ15BfpoNcvdgk71RNKPanqQt4v6fegAEykyF/nB4k+3R3CBmFbkzknqEFj0+PzH5QP6StWJ+j4PqGNB5l+3D4iJ8iyWGhlORn+kOE59acqf3wY+ATJfgXFjnv+gE7Xug5dS2S1PYA0nKJEbJBY6YfhcbenoK5AqzwCNvm+u0cWvYc/S2Rj8fm69W+ANyfhW+p0HQiM9KgJRhcD52n5tIY3Lwnl1fwxpTkofArUOK+SlbPI/WJOLnICOudgAAAAwAAAwAqoQAAAK5BmiJsQv/+jLAAAEZAAXzkoUI2o6Dr4SpCehttqt5F8vPGk0NM/6ZccD/CStLfingqf7LdD1cnYpkxSiDdk5co7AOqdtqetitc07ZPYBn3O/9eNoIGGsXUnerjn3iMdBdkVvwsW6YxX3E7835yTOi2fwSBPPcyNNfxdjNX0DsCNMggoHRdDjuHeDREiSCTzPAylnyT+Rf72JQMwAAONLOCog9j/VTzPttXXlkoF/AAAAAxAZ5BeR//AAAjw0Z/LmDG3pHZb55EG/mLp/xYnGTD1ncAczIAAAMAF5nQEqy2clCbgQAAAOxBmkY8IZMphCv//jhAAAENNuAjNlKTJ+HvaAFt5MfdTtMhtbebwSeu0t3PABKcK0Gd3SgKbmX5TNw/9z3nE3yxnu2PVWlM/171kzlkxup0XiiJBvqSHe98KN8d/ZwWI0Rz5t06uhIEOKW83upM+zNZ1wB+gRrDdBAAG209zgX2nXV5Os/J5PQsq3aVxqMDoQeNbqBIt9mNr29J2x+WFVxFkYx/k+yiZAXCaLY7rCp2Sr+CSr+hY6DqPEZSBu9uiNUDvhAneGGUx66mpfeuSlz/5hzi2zCoG0rOHvBGuiKAGrOlZSttzFCRlhDU0AAAAFpBnmRqU8I/AAAWu5YqQBHu560gxfGo9J1dJDlWogV+tEDN2zarw+MunX6Y6QOMu8rkED+E0UBeW9nGN8g6Js8hgeEfVwvlhVIEUMGDQjThD+BVg5MtnBtMCykAAABJAZ6DdEf/AAAjq/hfVX9q4LwKIrwPYUAEtRtXm8gBWGEWCMN1ogj3/PFt0QZzViuOFqhyiuUYYPUat4Zl4k8Ckto880ERFQhBWwAAAFYBnoVqR/8AACOvf0QAi6ly5pIIBqyn48PafAsSUUuhysCFhlNgD4huL/LaXN/f9ZhwNdzLiYyIkXWOKzN6OuhIapNWYZRI3stkMYQSbggpadAK3NjZgQAAAKZBmopJqEFomUwIR//94QAABBUUTqJ2DBDFfhZXePeSNnlLQAmTpWjd6GrdAQOXeeAGQy+046AM42RGTArxV1vMwKMpq13tlymLMo93TYND+DUj/+tjFGodMM+HpYRmdWl2VP25e+imlTYy/EmlGJ6/SktVjXuR2ETOmVbqVeepzwgmpC2Blo+aT2Hnw7Ehq7N0RS2rMBzQk3r7aowt9W8s6ZDNQfN1AAAAaEGeqEURLCP/AAAWu5Q11lDWze2EEAxCaFlY94a3fUi6E+24iUNSgL9WhPHoT1YUYY51PXbmSV2LZbI6akAFrorryLriY3uLh+SuWPJzQzCyoc3n9KNdZq4w+Juww5LtBmE1A0s0QUXAAAAASAGex3RH/wAAI8MXXkqxhASDVbv4qxb9a5YziNHFA3BXMaKxT6IGBMQFG0xVWtdq26hq86yUgbmIacYUAH7PYmlSgkB2ibGm4AAAAFkBnslqR/8AACO9li7b+rnduMYX2kueh2pQ285Ey6pDmb3u/qqrvQ40ABa+yHz5BOMHIBqmI8XHkGryIA5eYn9z+kZ17zDzTPe1L1cF2kXeHAst5PYlxTQDUwAAAGVBmstJqEFsmUwI//yEAAAP76IsTrkIs61UEqHhwH0UPUn/Iarpjs1szTXDI2W+575OWOlahgBV/74PlE9I1qWdMQv8SEUXlEdsE90PlDyRUtkZhb0k6DJ2b59AY19kfY/AftQxWwAAA6Ntb292AAAAbG12aGQAAAAAAAAAAAAAAAAAAAPoAAAA8AABAAABAAAAAAAAAAAAAAAAAQAAAAAAAAAAAAAAAAAAAAEAAAAAAAAAAAAAAAAAAEAAAAAAAAAAAAAAAAAAAAAAAAAAAAAAAAAAAAAAAAACAAACzXRyYWsAAABcdGtoZAAAAAMAAAAAAAAAAAAAAAEAAAAAAAAA8AAAAAAAAAAAAAAAAAAAAAAAAQAAAAAAAAAAAAAAAAAAAAEAAAAAAAAAAAAAAAAAAEAAAAACWAAAAZAAAAAAACRlZHRzAAAAHGVsc3QAAAAAAAAAAQAAAPAAAAIAAAEAAAAAAkVtZGlhAAAAIG1kaGQAAAAAAAAAAAAAAAAAADIAAAAMAFXEAAAAAAAtaGRscgAAAAAAAAAAdmlkZQAAAAAAAAAAAAAAAFZpZGVvSGFuZGxlcgAAAAHwbWluZgAAABR2bWhkAAAAAQAAAAAAAAAAAAAAJGRpbmYAAAAcZHJlZgAAAAAAAAABAAAADHVybCAAAAABAAABsHN0YmwAAACYc3RzZAAAAAAAAAABAAAAiGF2YzEAAAAAAAAAAQAAAAAAAAAAAAAAAAAAAAACWAGQAEgAAABIAAAAAAAAAAEAAAAAAAAAAAAAAAAAAAAAAAAAAAAAAAAAAAAAAAAAAAAY//8AAAAyYXZjQwFkAB//4QAZZ2QAH6zZQJgz5eEAAAMAAQAAAwBkDxgxlgEABmjr48siwAAAABhzdHRzAAAAAAAAAAEAAAAMAAABAAAAABRzdHNzAAAAAAAAAAEAAAABAAAAcGN0dHMAAAAAAAAADAAAAAEAAAIAAAAAAQAAAwAAAAABAAABAAAAAAEAAAUAAAAAAQAAAgAAAAABAAAAAAAAAAEAAAEAAAAAAQAABQAAAAABAAACAAAAAAEAAAAAAAAAAQAAAQAAAAABAAACAAAAABxzdHNjAAAAAAAAAAEAAAABAAAADAAAAAEAAABEc3RzegAAAAAAAAAAAAAADAAABH4AAACyAAAANQAAAPAAAABeAAAATQAAAFoAAACqAAAAbAAAAEwAAABdAAAAaQAAABRzdGNvAAAAAAAAAAEAAAAwAAAAYnVkdGEAAABabWV0YQAAAAAAAAAhaGRscgAAAAAAAAAAbWRpcmFwcGwAAAAAAAAAAAAAAAAtaWxzdAAAACWpdG9vAAAAHWRhdGEAAAABAAAAAExhdmY1Ny44My4xMDA=\" type=\"video/mp4\" />\n",
              "                 </video><br><video alt=\"gym-results/openaigym.video.1.125.video000009.mp4\" autoplay \n",
              "                      loop controls style=\"height: 400px;\">\n",
              "                      <source src=\"data:video/mp4;base64,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\" type=\"video/mp4\" />\n",
              "                 </video><br><video alt=\"gym-results/openaigym.video.1.125.video000004.mp4\" autoplay \n",
              "                      loop controls style=\"height: 400px;\">\n",
              "                      <source src=\"data:video/mp4;base64,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\" type=\"video/mp4\" />\n",
              "                 </video><br><video alt=\"gym-results/openaigym.video.1.125.video000002.mp4\" autoplay \n",
              "                      loop controls style=\"height: 400px;\">\n",
              "                      <source src=\"data:video/mp4;base64,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\" type=\"video/mp4\" />\n",
              "                 </video><br><video alt=\"gym-results/openaigym.video.1.125.video000000.mp4\" autoplay \n",
              "                      loop controls style=\"height: 400px;\">\n",
              "                      <source src=\"data:video/mp4;base64,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\" type=\"video/mp4\" />\n",
              "                 </video><br><video alt=\"gym-results/openaigym.video.1.125.video000006.mp4\" autoplay \n",
              "                      loop controls style=\"height: 400px;\">\n",
              "                      <source src=\"data:video/mp4;base64,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\" type=\"video/mp4\" />\n",
              "                 </video><br><video alt=\"gym-results/openaigym.video.1.125.video000001.mp4\" autoplay \n",
              "                      loop controls style=\"height: 400px;\">\n",
              "                      <source src=\"data:video/mp4;base64,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\" type=\"video/mp4\" />\n",
              "                 </video><br><video alt=\"gym-results/openaigym.video.1.125.video000005.mp4\" autoplay \n",
              "                      loop controls style=\"height: 400px;\">\n",
              "                      <source src=\"data:video/mp4;base64,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\" type=\"video/mp4\" />\n",
              "                 </video><br><video alt=\"gym-results/openaigym.video.1.125.video000007.mp4\" autoplay \n",
              "                      loop controls style=\"height: 400px;\">\n",
              "                      <source src=\"data:video/mp4;base64,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\" type=\"video/mp4\" />\n",
              "                 </video><br><video alt=\"gym-results/openaigym.video.1.125.video000008.mp4\" autoplay \n",
              "                      loop controls style=\"height: 400px;\">\n",
              "                      <source src=\"data:video/mp4;base64,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\" type=\"video/mp4\" />\n",
              "                 </video>"
            ],
            "text/plain": [
              "<IPython.core.display.HTML object>"
            ]
          },
          "metadata": {
            "tags": []
          }
        }
      ]
    },
    {
      "cell_type": "code",
      "metadata": {
        "id": "2z6ATeJ5tnyN",
        "colab_type": "code",
        "colab": {}
      },
      "source": [
        ""
      ],
      "execution_count": 0,
      "outputs": []
    }
  ]
}